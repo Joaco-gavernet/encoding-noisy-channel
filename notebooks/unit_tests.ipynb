{
 "cells": [
  {
   "cell_type": "code",
   "execution_count": 11,
   "metadata": {},
   "outputs": [],
   "source": [
    "# Import required libraries\n",
    "import sys\n",
    "sys.path.append('..')\n",
    "\n",
    "import numpy as np\n",
    "from src.channel import noisy_channel"
   ]
  },
  {
   "cell_type": "code",
   "execution_count": 12,
   "metadata": {},
   "outputs": [],
   "source": [
    "# Parameters\n",
    "n = 14  # codeword length\n",
    "k = 10   # source word length\n",
    "EbfN0 = 1  # Signal to noise ratio (in times)"
   ]
  },
  {
   "cell_type": "code",
   "execution_count": 13,
   "metadata": {},
   "outputs": [
    {
     "name": "stdout",
     "output_type": "stream",
     "text": [
      "Input codeword:    [[1 1 0 1 0 0 0 1 0 0 1 0 0 1]]\n",
      "Received codeword: [[1 1 1 0 0 0 0 1 1 0 1 0 0 1]]\n",
      "Number of errors:  3\n"
     ]
    }
   ],
   "source": [
    "# Generate a random input codeword\n",
    "input_codeword = np.random.randint(0, 2, (1, n))\n",
    "\n",
    "# Simulate transmission through the channel\n",
    "received_codeword = noisy_channel(input_codeword, n=n, k=k, EbfN0=EbfN0)\n",
    "\n",
    "print(f\"Input codeword:    {input_codeword}\")\n",
    "print(f\"Received codeword: {received_codeword}\")\n",
    "print(f\"Number of errors:  {np.sum(input_codeword != received_codeword)}\")"
   ]
  }
 ],
 "metadata": {
  "kernelspec": {
   "display_name": "myenv",
   "language": "python",
   "name": "python3"
  },
  "language_info": {
   "codemirror_mode": {
    "name": "ipython",
    "version": 3
   },
   "file_extension": ".py",
   "mimetype": "text/x-python",
   "name": "python",
   "nbconvert_exporter": "python",
   "pygments_lexer": "ipython3",
   "version": "3.10.13"
  }
 },
 "nbformat": 4,
 "nbformat_minor": 2
}
