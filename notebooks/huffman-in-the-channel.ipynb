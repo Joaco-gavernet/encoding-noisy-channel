{
 "cells": [
  {
   "cell_type": "code",
   "execution_count": 1,
   "metadata": {},
   "outputs": [
    {
     "name": "stdout",
     "output_type": "stream",
     "text": [
      "Notebook general setup done.\n",
      "Notebook general setup done.\n",
      "Notebook own setup done.\n"
     ]
    }
   ],
   "source": [
    "from general_utils import *\n",
    "from own_utils import *"
   ]
  },
  {
   "cell_type": "code",
   "execution_count": 4,
   "metadata": {},
   "outputs": [],
   "source": [
    "EbfN0 = 2\n",
    "im = Image.open('../imgs/input.tif')\n",
    "imarray = np.array(im)\n",
    "\n",
    "cimarray, tr = build_huffman_tree(imarray, x)\n",
    "\n",
    "cimarray_list = [int(bit) for bit in cimarray]\n",
    "aux = np.matrix(cimarray_list)\n",
    "\n",
    "decoded_image_bits = []\n",
    "total_bits = aux.shape[1]\n",
    "padding_bits = (k - (total_bits % k)) % k\n",
    "\n",
    "# Pad the aux matrix if necessary\n",
    "if padding_bits > 0:\n",
    "    padding = np.zeros((1, padding_bits), dtype=int)\n",
    "    aux = np.concatenate((aux, padding), axis=1)\n",
    "\n",
    "\n",
    "# Process aux in chunks of size k\n",
    "for i in range(0, aux.shape[1], k):\n",
    "    message_chunk = aux[:, i:i+k] # This should be 1x10\n",
    "    original_encoded_codeword = encode_message(message_chunk, G) # This should be 1x14\n",
    "\n",
    "    received_codeword = None\n",
    "    syndrome = np.matrix(np.ones((1, n - k), dtype=int)) # Initialize with non-zero syndrome to enter loop\n",
    "    retransmission_count = 0\n",
    "\n",
    "    # Simulate retransmissions until no error is detected or max retransmissions reached\n",
    "    while np.any(syndrome) and retransmission_count < max_retransmissions:\n",
    "        received_codeword = noisy_channel(original_encoded_codeword, n=n, k=k, EbfN0=EbfN0) # This should be 1x14\n",
    "        syndrome = (received_codeword @ H.transpose()) % 2 # H.transpose() is 14x4, result is 1x4\n",
    "\n",
    "        if np.any(syndrome):\n",
    "            retransmission_count += 1 # Error detected, simulate retransmission\n",
    "\n",
    "    # After successfully receiving a codeword (syndrome is zero) or max retransmissions reached\n",
    "    if not np.any(syndrome):\n",
    "        # This assumes the encode_message produces a systematic codeword\n",
    "        decoded_message_chunk = received_codeword[:, :k] # Extract first k bits (1x10)\n",
    "        decoded_image_bits.append(decoded_message_chunk)\n",
    "    else:\n",
    "        # If max retransmissions reached and error still detected, what to do?\n",
    "        # Option 1: Append a block of zeros (treat as erasure)\n",
    "        decoded_image_bits.append(np.zeros((1, k), dtype=int))\n",
    "        print(f\"  Max retransmissions ({max_retransmissions}) reached for chunk starting at bit {i}. Appending zero block.\")\n",
    "\n",
    "        # Option 2: Append the last received (erroneous) message part (might introduce more errors)\n",
    "        # decoded_message_chunk = received_codeword[:, :k]\n",
    "        # decoded_image_bits.append(decoded_message_chunk)\n"
   ]
  },
  {
   "cell_type": "code",
   "execution_count": 5,
   "metadata": {},
   "outputs": [
    {
     "name": "stdout",
     "output_type": "stream",
     "text": [
      "Padded reconstructed pixels with 52 zeros to match original image size.\n",
      "Image decoded and saved as 'decoded.tif'\n"
     ]
    }
   ],
   "source": [
    "# At this point, decoded_image_bits is a list of numpy matrices, each 1xk.\n",
    "combined_decoded_bits = np.concatenate(decoded_image_bits, axis=1)\n",
    "\n",
    "# Unpad combined_decoded_bits to get the original number of bits in cimarray\n",
    "# total_bits = \"length of aux before padding\"\n",
    "combined_decoded_bits = combined_decoded_bits[:, :total_bits]\n",
    "decoded_bits_array = np.array(combined_decoded_bits).flatten()\n",
    "\n",
    "# Now, perform inverse Huffman decoding to get back the pixel values\n",
    "reconstructed_pixels = []\n",
    "current_code_bits = \"\"\n",
    "\n",
    "# Use the code_to_pixel_tuple dictionary for decoding\n",
    "# Iterate through the flattened decoded bits array\n",
    "for bit in decoded_bits_array:\n",
    "    current_code_bits += str(bit)\n",
    "    # Check if the current accumulated bits form a valid Huffman code\n",
    "    if current_code_bits in tr:\n",
    "        pixel_tuple = tr[current_code_bits] # Get the original pixel tuple for the found code\n",
    "        reconstructed_pixels.extend(pixel_tuple) # Add the pixel values from the tuple to our list\n",
    "        current_code_bits = \"\" # Reset the accumulated bits for the next code\n",
    "\n",
    "# Convert the list of reconstructed pixels to a numpy array\n",
    "reconstructed_array = np.array(reconstructed_pixels, dtype=np.uint8)\n",
    "\n",
    "# Check if the number of reconstructed pixels matches the original image size\n",
    "# If not, pad or truncate the reconstructed array to match the original size (size mismatch indicates errors)\n",
    "if reconstructed_array.size < imarray.size:\n",
    "    padding_size = imarray.size - reconstructed_array.size\n",
    "    reconstructed_array = np.pad(reconstructed_array, (0, padding_size), 'constant', constant_values=0)\n",
    "    print(f\"Padded reconstructed pixels with {padding_size} zeros to match original image size.\")\n",
    "elif reconstructed_array.size > imarray.size:\n",
    "     reconstructed_array = reconstructed_array[:imarray.size]\n",
    "     print(f\"Truncated reconstructed pixels by {reconstructed_array.size - imarray.size} to match original image size.\")\n",
    "\n",
    "decoded_image = reconstructed_array.reshape(imarray.shape)\n",
    "decoded_image[decoded_image == 1] = 255 # map 1 to 255 in RGB\n",
    "\n",
    "decoded_image_pil = Image.fromarray(decoded_image)\n",
    "decoded_image_pil.save('../imgs/decoded.tif')\n",
    "print(\"Image decoded and saved as 'decoded.tif'\")"
   ]
  }
 ],
 "metadata": {
  "kernelspec": {
   "display_name": "py312",
   "language": "python",
   "name": "python3"
  },
  "language_info": {
   "codemirror_mode": {
    "name": "ipython",
    "version": 3
   },
   "file_extension": ".py",
   "mimetype": "text/x-python",
   "name": "python",
   "nbconvert_exporter": "python",
   "pygments_lexer": "ipython3",
   "version": "3.12.10"
  }
 },
 "nbformat": 4,
 "nbformat_minor": 2
}
