{
 "cells": [
  {
   "cell_type": "code",
   "execution_count": 7,
   "metadata": {},
   "outputs": [],
   "source": [
    "import sys\n",
    "sys.path.append('..')\n",
    "\n",
    "from PIL import Image\n",
    "import numpy as np\n",
    "from src.huffman import *\n",
    "\n",
    "im = Image.open('../imgs/input.tif')\n",
    "imarray = np.array(im)\n",
    "\n",
    "# Choose power of extended source S^x\n",
    "x = 3"
   ]
  },
  {
   "cell_type": "code",
   "execution_count": 8,
   "metadata": {},
   "outputs": [
    {
     "name": "stdout",
     "output_type": "stream",
     "text": [
      "(434, 432)\n",
      "187488\n",
      "Possible values of x (divisors of imarray.size):\n",
      "[1, 2, 3, 4, 6, 7, 8, 9, 12, 14, 16, 18, 21, 24, 27, 28, 31, 32, 36, 42, 48, 54, 56, 62, 63, 72, 84, 93, 96, 108, 112, 124, 126, 144, 168, 186, 189, 216, 217, 224, 248, 252, 279, 288, 336, 372, 378, 432, 434, 496, 504, 558, 651, 672, 744, 756, 837, 864, 868, 992, 1008, 1116, 1302, 1488, 1512, 1674, 1736, 1953, 2016, 2232, 2604, 2976, 3024, 3348, 3472, 3906, 4464, 5208, 5859, 6048, 6696, 6944, 7812, 8928, 10416, 11718, 13392, 15624, 20832, 23436, 26784, 31248, 46872, 62496, 93744, 187488]\n"
     ]
    }
   ],
   "source": [
    "def find_divisors(n):\n",
    "    divisors = []\n",
    "    for i in range(1, n + 1):\n",
    "        if n % i == 0:\n",
    "            divisors.append(i)\n",
    "    return divisors\n",
    "\n",
    "divisors = find_divisors(imarray.size)\n",
    "\n",
    "print(imarray.shape)\n",
    "print(imarray.size)\n",
    "print(\"Possible values of x (divisors of imarray.size):\")\n",
    "print(divisors)"
   ]
  },
  {
   "cell_type": "code",
   "execution_count": 9,
   "metadata": {},
   "outputs": [
    {
     "name": "stdout",
     "output_type": "stream",
     "text": [
      "99888\n",
      "1.598310291858679\n",
      "0.5327700972862263\n"
     ]
    }
   ],
   "source": [
    "# Compress message in imarray using Huffman code \n",
    "\n",
    "cimarray, tr = build_huffman_tree(imarray, x)\n",
    "\n",
    "tot_symbs = imarray.size // x\n",
    "avg_symbs = len(cimarray) / tot_symbs # bytes per symbol\n",
    "avg_one = avg_symbs / x\n",
    "\n",
    "print(len(cimarray))\n",
    "print(avg_symbs)\n",
    "print(avg_one)"
   ]
  }
 ],
 "metadata": {
  "kernelspec": {
   "display_name": "Python 3",
   "language": "python",
   "name": "python3"
  },
  "language_info": {
   "codemirror_mode": {
    "name": "ipython",
    "version": 3
   },
   "file_extension": ".py",
   "mimetype": "text/x-python",
   "name": "python",
   "nbconvert_exporter": "python",
   "pygments_lexer": "ipython3",
   "version": "3.12.4"
  }
 },
 "nbformat": 4,
 "nbformat_minor": 2
}
