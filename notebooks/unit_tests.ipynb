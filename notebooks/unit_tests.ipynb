{
 "cells": [
  {
   "cell_type": "code",
   "execution_count": 1,
   "metadata": {},
   "outputs": [
    {
     "name": "stdout",
     "output_type": "stream",
     "text": [
      "Notebook general setup done.\n",
      "Notebook general setup done.\n",
      "Notebook own setup done.\n"
     ]
    }
   ],
   "source": [
    "from general_utils import *\n",
    "from own_utils import *"
   ]
  },
  {
   "cell_type": "code",
   "execution_count": 2,
   "metadata": {},
   "outputs": [
    {
     "name": "stdout",
     "output_type": "stream",
     "text": [
      "Input codeword:    [[0 0 0 0 0 0 1 0 0 1 1 0 0 0]]\n",
      "Received codeword: [[0 0 0 0 0 0 1 0 0 1 0 0 0 0]]\n",
      "Number of errors:  1\n"
     ]
    }
   ],
   "source": [
    "# Generate a random input codeword\n",
    "input_codeword = np.random.randint(0, 2, (1, n))\n",
    "\n",
    "# Simulate transmission through the channel\n",
    "received_codeword = noisy_channel(input_codeword, n=n, k=k, EbfN0=EbfN0)\n",
    "\n",
    "print(f\"Input codeword:    {input_codeword}\")\n",
    "print(f\"Received codeword: {received_codeword}\")\n",
    "print(f\"Number of errors:  {np.sum(input_codeword != received_codeword)}\")"
   ]
  }
 ],
 "metadata": {
  "kernelspec": {
   "display_name": "py312",
   "language": "python",
   "name": "python3"
  },
  "language_info": {
   "codemirror_mode": {
    "name": "ipython",
    "version": 3
   },
   "file_extension": ".py",
   "mimetype": "text/x-python",
   "name": "python",
   "nbconvert_exporter": "python",
   "pygments_lexer": "ipython3",
   "version": "3.12.9"
  }
 },
 "nbformat": 4,
 "nbformat_minor": 2
}
