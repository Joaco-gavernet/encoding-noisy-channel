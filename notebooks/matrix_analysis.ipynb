{
 "cells": [
  {
   "cell_type": "code",
   "execution_count": 12,
   "metadata": {},
   "outputs": [],
   "source": [
    "from general_utils import *\n",
    "from own_utils import *"
   ]
  },
  {
   "cell_type": "code",
   "execution_count": 13,
   "metadata": {},
   "outputs": [
    {
     "name": "stdout",
     "output_type": "stream",
     "text": [
      "[1 0 0 0 0 0 0 0 0 0 0 0 0 0 1]\n"
     ]
    }
   ],
   "source": [
    "# Check if polynom is well factorized\n",
    "mults = [\n",
    "    [1, 1],\n",
    "    [1, 1],\n",
    "    [1, 0, 1, 1],\n",
    "    [1, 0, 1, 1],\n",
    "    [1, 1, 0, 1],\n",
    "    [1, 1, 0, 1],\n",
    "]\n",
    "\n",
    "ans = mults[0]\n",
    "for i in range(1, 6): \n",
    "    ans = multiply_gf2(ans, mults[i])\n",
    "    \n",
    "print(ans)"
   ]
  },
  {
   "cell_type": "code",
   "execution_count": 14,
   "metadata": {},
   "outputs": [
    {
     "name": "stdout",
     "output_type": "stream",
     "text": [
      "Parity matrix P:\n",
      "[[1 1 1 0]\n",
      " [0 1 1 1]\n",
      " [1 1 0 1]\n",
      " [1 0 0 0]\n",
      " [0 1 0 0]\n",
      " [0 0 1 0]\n",
      " [0 0 0 1]\n",
      " [1 1 1 0]\n",
      " [0 1 1 1]\n",
      " [1 1 0 1]]\n"
     ]
    }
   ],
   "source": [
    "# Create systematic generator matrix G = [I | P]\n",
    "# where I is k×k identity matrix and P is k×(n-k) parity matrix\n",
    "I = np.eye(k)\n",
    "\n",
    "# Create parity matrix P based on the generating polynomial g(x) = x^4 + x^3 + x^2 + 1\n",
    "# The polynomial coefficients are [1, 1, 1, 0, 1] (from highest to lowest degree)\n",
    "g = np.array([1, 1, 1, 0, 1])\n",
    "\n",
    "# Create parity matrix P\n",
    "P = np.zeros((k, n-k), dtype=int)\n",
    "for i in range(k):\n",
    "    dividend = np.zeros(n, dtype=int)\n",
    "    dividend[i] = 1  # x^(n-1-i)\n",
    "    \n",
    "    remainder = polynomial_division(dividend, g)\n",
    "    P[i] = remainder\n",
    "\n",
    "\n",
    "print(\"Parity matrix P:\")\n",
    "print(P)\n"
   ]
  },
  {
   "cell_type": "code",
   "execution_count": 15,
   "metadata": {},
   "outputs": [
    {
     "name": "stdout",
     "output_type": "stream",
     "text": [
      "dmin = 2\n",
      "One possible example: (0, 7)\n"
     ]
    }
   ],
   "source": [
    "# Find minimum rows that sum to zero vector\n",
    "min_rows = find_min_rows_sum_to_zero(P)\n",
    "print(f\"dmin = {len(min_rows)}\")\n",
    "print(f\"One possible example: {min_rows}\")"
   ]
  },
  {
   "cell_type": "code",
   "execution_count": 16,
   "metadata": {},
   "outputs": [
    {
     "name": "stdout",
     "output_type": "stream",
     "text": [
      "\n",
      "Generator matrix G:\n",
      "[[1. 0. 0. 0. 0. 0. 0. 0. 0. 0. 1. 1. 0. 0.]\n",
      " [0. 1. 0. 0. 0. 0. 0. 0. 0. 0. 0. 1. 1. 0.]\n",
      " [0. 0. 1. 0. 0. 0. 0. 0. 0. 0. 0. 0. 1. 1.]\n",
      " [0. 0. 0. 1. 0. 0. 0. 0. 0. 0. 1. 0. 0. 1.]\n",
      " [0. 0. 0. 0. 1. 0. 0. 0. 0. 0. 1. 1. 1. 0.]\n",
      " [0. 0. 0. 0. 0. 1. 0. 0. 0. 0. 0. 1. 1. 1.]\n",
      " [0. 0. 0. 0. 0. 0. 1. 0. 0. 0. 1. 0. 1. 1.]\n",
      " [0. 0. 0. 0. 0. 0. 0. 1. 0. 0. 1. 1. 0. 1.]\n",
      " [0. 0. 0. 0. 0. 0. 0. 0. 1. 0. 1. 1. 1. 1.]\n",
      " [0. 0. 0. 0. 0. 0. 0. 0. 0. 1. 1. 0. 1. 0.]]\n"
     ]
    }
   ],
   "source": [
    "# Proposed parity matrix\n",
    "P = np.matrix([[1, 1, 0, 0],\n",
    "     [0, 1, 1, 0],\n",
    "     [0, 0, 1, 1],\n",
    "     [1, 0, 0, 1],\n",
    "     [1, 1, 1, 0],\n",
    "     [0, 1, 1, 1],\n",
    "     [1, 0, 1, 1],\n",
    "     [1, 1, 0, 1],\n",
    "     [1, 1, 1, 1],\n",
    "     [1, 0, 1, 0]], dtype=np.int64)\n",
    "G = np.hstack((np.eye(k), P))\n",
    "H = np.hstack((P.T, np.eye(n-k)))\n",
    "\n",
    "print(\"\\nGenerator matrix G:\")\n",
    "print(G)"
   ]
  },
  {
   "cell_type": "code",
   "execution_count": 17,
   "metadata": {},
   "outputs": [
    {
     "name": "stdout",
     "output_type": "stream",
     "text": [
      "dmin = 3\n",
      "One possible example: (0, 1, 9)\n"
     ]
    }
   ],
   "source": [
    "# Find minimum rows that sum to zero vector\n",
    "min_rows = find_min_rows_sum_to_zero(P)\n",
    "print(f\"dmin = {len(min_rows)}\")\n",
    "print(f\"One possible example: {min_rows}\")"
   ]
  },
  {
   "cell_type": "code",
   "execution_count": 18,
   "metadata": {},
   "outputs": [
    {
     "name": "stdout",
     "output_type": "stream",
     "text": [
      "syndrome [[1. 0. 1. 0.]]\n"
     ]
    }
   ],
   "source": [
    "# Check error detection for some specific pattern\n",
    "error = [1, 1, 0, 0, 0, 0, 0, 0, 0, 0, 0, 0, 0, 0]\n",
    "\n",
    "syndrome = np.dot(error, H.T) % 2\n",
    "print(\"syndrome\", syndrome)\n",
    "if not np.any(syndrome):  # If syndrome is zero\n",
    "    print(f\"Error! Single-bit error pattern {error} not detected\")"
   ]
  },
  {
   "cell_type": "code",
   "execution_count": 19,
   "metadata": {},
   "outputs": [
    {
     "name": "stdout",
     "output_type": "stream",
     "text": [
      "\n",
      "Error Correction Capability (t_correct = 1):\n",
      "single 14\n",
      "All single-bit errors are correctable ✓\n",
      "\n",
      "Error Detection Capability (t_detect = 2):\n",
      "double 105\n",
      "All double-bit errors are detectable ✓\n",
      "\n",
      "Testing triple-bit errors (should be some undetectable):\n",
      "triple 469\n",
      "Some example of undetectable triple-bit error pattern: [[1 1 0 0 0 0 0 0 0 1 0 0 0 0]]\n",
      "Some example of undetectable triple-bit error pattern: [[1 0 1 0 0 0 0 0 1 0 0 0 0 0]]\n",
      "Some example of undetectable triple-bit error pattern: [[1 0 0 0 1 0 0 0 0 0 0 0 1 0]]\n",
      "Found 28 undetectable triple-bit error patterns\n"
     ]
    }
   ],
   "source": [
    "# Test single-bit errors (t_correct = 1)\n",
    "print(\"\\nError Correction Capability (t_correct = 1):\")\n",
    "single_errors = generate_error_patterns(1, n)\n",
    "print(\"single\", len(single_errors))\n",
    "\n",
    "for error in single_errors:\n",
    "    # Calculate syndrome: s = e * H^T\n",
    "    syndrome = np.dot(error, H.T) % 2\n",
    "    if not np.any(syndrome):  # If syndrome is zero\n",
    "        print(f\"Error! Single-bit error pattern {error} not detected\")\n",
    "print(\"All single-bit errors are correctable ✓\")\n",
    "\n",
    "# Test double-bit errors (t_detect = 2)\n",
    "print(\"\\nError Detection Capability (t_detect = 2):\")\n",
    "double_errors = generate_error_patterns(2, n)\n",
    "print(\"double\", len(double_errors))\n",
    "\n",
    "for error in double_errors:\n",
    "    syndrome = np.dot(error, H.T) % 2\n",
    "    if not np.any(syndrome):  # If syndrome is zero\n",
    "        print(f\"Error! Double-bit error pattern {error} not detected\")\n",
    "print(\"All double-bit errors are detectable ✓\")\n",
    "\n",
    "# Test triple-bit errors (should be some undetectable)\n",
    "print(\"\\nTesting triple-bit errors (should be some undetectable):\")\n",
    "triple_errors = generate_error_patterns(3, n)\n",
    "print(\"triple\", len(triple_errors))\n",
    "\n",
    "undetectable = 0\n",
    "for error in triple_errors:\n",
    "    syndrome = np.dot(error, H.T) % 2\n",
    "    if not np.any(syndrome):  # If syndrome is zero\n",
    "        undetectable += 1\n",
    "        if undetectable <= 3:\n",
    "            print(f\"Some example of undetectable triple-bit error pattern: {error}\")\n",
    "print(f\"Found {undetectable} undetectable triple-bit error patterns\")\n"
   ]
  },
  {
   "cell_type": "code",
   "execution_count": 20,
   "metadata": {},
   "outputs": [
    {
     "name": "stdout",
     "output_type": "stream",
     "text": [
      "\n",
      "Found 0 correctable double-bit errors\n",
      "Found 90 only detectable double-bit errors\n",
      "\n",
      "Example of correctable double-bit errors:\n",
      "\n",
      "Example of only detectable double-bit errors:\n",
      "Pair 1:\n",
      "Error pattern 1: [[1 1 0 0 0 0 0 0 0 0 0 0 0 0]]\n",
      "Error pattern 2: [[0 0 0 0 0 0 0 0 0 1 0 0 0 0]]\n",
      "Both have syndrome: [[1. 0. 1. 0.]]\n",
      "Pair 2:\n",
      "Error pattern 1: [[1 0 1 0 0 0 0 0 0 0 0 0 0 0]]\n",
      "Error pattern 2: [[0 0 0 0 0 0 0 0 1 0 0 0 0 0]]\n",
      "Both have syndrome: [[1. 1. 1. 1.]]\n",
      "Pair 3:\n",
      "Error pattern 1: [[1 0 0 0 1 0 0 0 0 0 0 0 0 0]]\n",
      "Error pattern 2: [[0 0 0 0 0 0 0 0 0 0 0 0 1 0]]\n",
      "Both have syndrome: [[0. 0. 1. 0.]]\n",
      "[]\n",
      "[(array([[1, 1, 0, 0, 0, 0, 0, 0, 0, 0, 0, 0, 0, 0]]), array([[0, 0, 0, 0, 0, 0, 0, 0, 0, 1, 0, 0, 0, 0]])), (array([[1, 0, 1, 0, 0, 0, 0, 0, 0, 0, 0, 0, 0, 0]]), array([[0, 0, 0, 0, 0, 0, 0, 0, 1, 0, 0, 0, 0, 0]])), (array([[1, 0, 0, 0, 1, 0, 0, 0, 0, 0, 0, 0, 0, 0]]), array([[0, 0, 0, 0, 0, 0, 0, 0, 0, 0, 0, 0, 1, 0]])), (array([[1, 0, 0, 0, 0, 1, 0, 0, 0, 0, 0, 0, 0, 0]]), array([[0, 0, 0, 0, 0, 0, 1, 0, 0, 0, 0, 0, 0, 0]])), (array([[1, 0, 0, 0, 0, 0, 1, 0, 0, 0, 0, 0, 0, 0]]), array([[0, 0, 0, 0, 0, 1, 0, 0, 0, 0, 0, 0, 0, 0]])), (array([[1, 0, 0, 0, 0, 0, 0, 1, 0, 0, 0, 0, 0, 0]]), array([[0, 0, 0, 0, 0, 0, 0, 0, 0, 0, 0, 0, 0, 1]])), (array([[1, 0, 0, 0, 0, 0, 0, 0, 1, 0, 0, 0, 0, 0]]), array([[0, 0, 1, 0, 0, 0, 0, 0, 0, 0, 0, 0, 0, 0]])), (array([[1, 0, 0, 0, 0, 0, 0, 0, 0, 1, 0, 0, 0, 0]]), array([[0, 1, 0, 0, 0, 0, 0, 0, 0, 0, 0, 0, 0, 0]])), (array([[1, 0, 0, 0, 0, 0, 0, 0, 0, 0, 1, 0, 0, 0]]), array([[0, 0, 0, 0, 0, 0, 0, 0, 0, 0, 0, 1, 0, 0]])), (array([[1, 0, 0, 0, 0, 0, 0, 0, 0, 0, 0, 1, 0, 0]]), array([[0, 0, 0, 0, 0, 0, 0, 0, 0, 0, 1, 0, 0, 0]])), (array([[1, 0, 0, 0, 0, 0, 0, 0, 0, 0, 0, 0, 1, 0]]), array([[0, 0, 0, 0, 1, 0, 0, 0, 0, 0, 0, 0, 0, 0]])), (array([[1, 0, 0, 0, 0, 0, 0, 0, 0, 0, 0, 0, 0, 1]]), array([[0, 0, 0, 0, 0, 0, 0, 1, 0, 0, 0, 0, 0, 0]])), (array([[0, 1, 1, 0, 0, 0, 0, 0, 0, 0, 0, 0, 0, 0]]), array([[1, 0, 0, 1, 0, 0, 0, 0, 0, 0, 0, 0, 0, 0]])), (array([[0, 1, 0, 1, 0, 0, 0, 0, 0, 0, 0, 0, 0, 0]]), array([[0, 0, 0, 0, 0, 0, 0, 0, 1, 0, 0, 0, 0, 0]])), (array([[0, 1, 0, 0, 1, 0, 0, 0, 0, 0, 0, 0, 0, 0]]), array([[0, 0, 0, 0, 0, 0, 0, 0, 0, 0, 1, 0, 0, 0]])), (array([[0, 1, 0, 0, 0, 1, 0, 0, 0, 0, 0, 0, 0, 0]]), array([[0, 0, 0, 0, 0, 0, 0, 0, 0, 0, 0, 0, 0, 1]])), (array([[0, 1, 0, 0, 0, 0, 1, 0, 0, 0, 0, 0, 0, 0]]), array([[0, 0, 0, 0, 0, 0, 0, 1, 0, 0, 0, 0, 0, 0]])), (array([[0, 1, 0, 0, 0, 0, 0, 1, 0, 0, 0, 0, 0, 0]]), array([[0, 0, 0, 0, 0, 0, 1, 0, 0, 0, 0, 0, 0, 0]])), (array([[0, 1, 0, 0, 0, 0, 0, 0, 1, 0, 0, 0, 0, 0]]), array([[0, 0, 0, 1, 0, 0, 0, 0, 0, 0, 0, 0, 0, 0]])), (array([[0, 1, 0, 0, 0, 0, 0, 0, 0, 1, 0, 0, 0, 0]]), array([[1, 0, 0, 0, 0, 0, 0, 0, 0, 0, 0, 0, 0, 0]])), (array([[0, 1, 0, 0, 0, 0, 0, 0, 0, 0, 1, 0, 0, 0]]), array([[0, 0, 0, 0, 1, 0, 0, 0, 0, 0, 0, 0, 0, 0]])), (array([[0, 1, 0, 0, 0, 0, 0, 0, 0, 0, 0, 1, 0, 0]]), array([[0, 0, 0, 0, 0, 0, 0, 0, 0, 0, 0, 0, 1, 0]])), (array([[0, 1, 0, 0, 0, 0, 0, 0, 0, 0, 0, 0, 1, 0]]), array([[0, 0, 0, 0, 0, 0, 0, 0, 0, 0, 0, 1, 0, 0]])), (array([[0, 1, 0, 0, 0, 0, 0, 0, 0, 0, 0, 0, 0, 1]]), array([[0, 0, 0, 0, 0, 1, 0, 0, 0, 0, 0, 0, 0, 0]])), (array([[0, 0, 1, 1, 0, 0, 0, 0, 0, 0, 0, 0, 0, 0]]), array([[0, 0, 0, 0, 0, 0, 0, 0, 0, 1, 0, 0, 0, 0]])), (array([[0, 0, 1, 0, 1, 0, 0, 0, 0, 0, 0, 0, 0, 0]]), array([[0, 0, 0, 0, 0, 0, 0, 1, 0, 0, 0, 0, 0, 0]])), (array([[0, 0, 1, 0, 0, 1, 0, 0, 0, 0, 0, 0, 0, 0]]), array([[0, 0, 0, 0, 0, 0, 0, 0, 0, 0, 0, 1, 0, 0]])), (array([[0, 0, 1, 0, 0, 0, 1, 0, 0, 0, 0, 0, 0, 0]]), array([[0, 0, 0, 0, 0, 0, 0, 0, 0, 0, 1, 0, 0, 0]])), (array([[0, 0, 1, 0, 0, 0, 0, 1, 0, 0, 0, 0, 0, 0]]), array([[0, 0, 0, 0, 1, 0, 0, 0, 0, 0, 0, 0, 0, 0]])), (array([[0, 0, 1, 0, 0, 0, 0, 0, 1, 0, 0, 0, 0, 0]]), array([[1, 0, 0, 0, 0, 0, 0, 0, 0, 0, 0, 0, 0, 0]])), (array([[0, 0, 1, 0, 0, 0, 0, 0, 0, 1, 0, 0, 0, 0]]), array([[0, 0, 0, 1, 0, 0, 0, 0, 0, 0, 0, 0, 0, 0]])), (array([[0, 0, 1, 0, 0, 0, 0, 0, 0, 0, 1, 0, 0, 0]]), array([[0, 0, 0, 0, 0, 0, 1, 0, 0, 0, 0, 0, 0, 0]])), (array([[0, 0, 1, 0, 0, 0, 0, 0, 0, 0, 0, 1, 0, 0]]), array([[0, 0, 0, 0, 0, 1, 0, 0, 0, 0, 0, 0, 0, 0]])), (array([[0, 0, 1, 0, 0, 0, 0, 0, 0, 0, 0, 0, 1, 0]]), array([[0, 0, 0, 0, 0, 0, 0, 0, 0, 0, 0, 0, 0, 1]])), (array([[0, 0, 1, 0, 0, 0, 0, 0, 0, 0, 0, 0, 0, 1]]), array([[0, 0, 0, 0, 0, 0, 0, 0, 0, 0, 0, 0, 1, 0]])), (array([[0, 0, 0, 1, 1, 0, 0, 0, 0, 0, 0, 0, 0, 0]]), array([[0, 0, 0, 0, 0, 1, 0, 0, 0, 0, 0, 0, 0, 0]])), (array([[0, 0, 0, 1, 0, 1, 0, 0, 0, 0, 0, 0, 0, 0]]), array([[0, 0, 0, 0, 1, 0, 0, 0, 0, 0, 0, 0, 0, 0]])), (array([[0, 0, 0, 1, 0, 0, 1, 0, 0, 0, 0, 0, 0, 0]]), array([[0, 0, 0, 0, 0, 0, 0, 0, 0, 0, 0, 0, 1, 0]])), (array([[0, 0, 0, 1, 0, 0, 0, 1, 0, 0, 0, 0, 0, 0]]), array([[0, 0, 0, 0, 0, 0, 0, 0, 0, 0, 0, 1, 0, 0]])), (array([[0, 0, 0, 1, 0, 0, 0, 0, 1, 0, 0, 0, 0, 0]]), array([[0, 1, 0, 0, 0, 0, 0, 0, 0, 0, 0, 0, 0, 0]])), (array([[0, 0, 0, 1, 0, 0, 0, 0, 0, 1, 0, 0, 0, 0]]), array([[0, 0, 1, 0, 0, 0, 0, 0, 0, 0, 0, 0, 0, 0]])), (array([[0, 0, 0, 1, 0, 0, 0, 0, 0, 0, 1, 0, 0, 0]]), array([[0, 0, 0, 0, 0, 0, 0, 0, 0, 0, 0, 0, 0, 1]])), (array([[0, 0, 0, 1, 0, 0, 0, 0, 0, 0, 0, 1, 0, 0]]), array([[0, 0, 0, 0, 0, 0, 0, 1, 0, 0, 0, 0, 0, 0]])), (array([[0, 0, 0, 1, 0, 0, 0, 0, 0, 0, 0, 0, 1, 0]]), array([[0, 0, 0, 0, 0, 0, 1, 0, 0, 0, 0, 0, 0, 0]])), (array([[0, 0, 0, 1, 0, 0, 0, 0, 0, 0, 0, 0, 0, 1]]), array([[0, 0, 0, 0, 0, 0, 0, 0, 0, 0, 1, 0, 0, 0]])), (array([[0, 0, 0, 0, 1, 1, 0, 0, 0, 0, 0, 0, 0, 0]]), array([[0, 0, 0, 1, 0, 0, 0, 0, 0, 0, 0, 0, 0, 0]])), (array([[0, 0, 0, 0, 1, 0, 1, 0, 0, 0, 0, 0, 0, 0]]), array([[1, 0, 0, 1, 0, 0, 0, 0, 0, 0, 0, 0, 0, 0]])), (array([[0, 0, 0, 0, 1, 0, 0, 1, 0, 0, 0, 0, 0, 0]]), array([[0, 0, 1, 0, 0, 0, 0, 0, 0, 0, 0, 0, 0, 0]])), (array([[0, 0, 0, 0, 1, 0, 0, 0, 1, 0, 0, 0, 0, 0]]), array([[0, 0, 0, 0, 0, 0, 0, 0, 0, 0, 0, 0, 0, 1]])), (array([[0, 0, 0, 0, 1, 0, 0, 0, 0, 1, 0, 0, 0, 0]]), array([[0, 0, 0, 0, 0, 0, 0, 0, 0, 0, 0, 1, 0, 0]])), (array([[0, 0, 0, 0, 1, 0, 0, 0, 0, 0, 1, 0, 0, 0]]), array([[0, 1, 0, 0, 0, 0, 0, 0, 0, 0, 0, 0, 0, 0]])), (array([[0, 0, 0, 0, 1, 0, 0, 0, 0, 0, 0, 1, 0, 0]]), array([[0, 0, 0, 0, 0, 0, 0, 0, 0, 1, 0, 0, 0, 0]])), (array([[0, 0, 0, 0, 1, 0, 0, 0, 0, 0, 0, 0, 1, 0]]), array([[1, 0, 0, 0, 0, 0, 0, 0, 0, 0, 0, 0, 0, 0]])), (array([[0, 0, 0, 0, 1, 0, 0, 0, 0, 0, 0, 0, 0, 1]]), array([[0, 0, 0, 0, 0, 0, 0, 0, 1, 0, 0, 0, 0, 0]])), (array([[0, 0, 0, 0, 0, 1, 1, 0, 0, 0, 0, 0, 0, 0]]), array([[1, 0, 0, 0, 0, 0, 0, 0, 0, 0, 0, 0, 0, 0]])), (array([[0, 0, 0, 0, 0, 1, 0, 1, 0, 0, 0, 0, 0, 0]]), array([[0, 0, 0, 0, 0, 0, 0, 0, 0, 1, 0, 0, 0, 0]])), (array([[0, 0, 0, 0, 0, 1, 0, 0, 1, 0, 0, 0, 0, 0]]), array([[0, 0, 0, 0, 0, 0, 0, 0, 0, 0, 1, 0, 0, 0]])), (array([[0, 0, 0, 0, 0, 1, 0, 0, 0, 1, 0, 0, 0, 0]]), array([[0, 0, 0, 0, 0, 0, 0, 1, 0, 0, 0, 0, 0, 0]])), (array([[0, 0, 0, 0, 0, 1, 0, 0, 0, 0, 1, 0, 0, 0]]), array([[0, 0, 0, 0, 0, 0, 0, 0, 1, 0, 0, 0, 0, 0]])), (array([[0, 0, 0, 0, 0, 1, 0, 0, 0, 0, 0, 1, 0, 0]]), array([[0, 0, 1, 0, 0, 0, 0, 0, 0, 0, 0, 0, 0, 0]])), (array([[0, 0, 0, 0, 0, 1, 0, 0, 0, 0, 0, 0, 1, 0]]), array([[1, 0, 0, 1, 0, 0, 0, 0, 0, 0, 0, 0, 0, 0]])), (array([[0, 0, 0, 0, 0, 1, 0, 0, 0, 0, 0, 0, 0, 1]]), array([[0, 1, 0, 0, 0, 0, 0, 0, 0, 0, 0, 0, 0, 0]])), (array([[0, 0, 0, 0, 0, 0, 1, 1, 0, 0, 0, 0, 0, 0]]), array([[0, 1, 0, 0, 0, 0, 0, 0, 0, 0, 0, 0, 0, 0]])), (array([[0, 0, 0, 0, 0, 0, 1, 0, 1, 0, 0, 0, 0, 0]]), array([[0, 0, 0, 0, 0, 0, 0, 0, 0, 0, 0, 1, 0, 0]])), (array([[0, 0, 0, 0, 0, 0, 1, 0, 0, 1, 0, 0, 0, 0]]), array([[0, 0, 0, 0, 0, 0, 0, 0, 0, 0, 0, 0, 0, 1]])), (array([[0, 0, 0, 0, 0, 0, 1, 0, 0, 0, 1, 0, 0, 0]]), array([[0, 0, 1, 0, 0, 0, 0, 0, 0, 0, 0, 0, 0, 0]])), (array([[0, 0, 0, 0, 0, 0, 1, 0, 0, 0, 0, 1, 0, 0]]), array([[0, 0, 0, 0, 0, 0, 0, 0, 1, 0, 0, 0, 0, 0]])), (array([[0, 0, 0, 0, 0, 0, 1, 0, 0, 0, 0, 0, 1, 0]]), array([[0, 0, 0, 1, 0, 0, 0, 0, 0, 0, 0, 0, 0, 0]])), (array([[0, 0, 0, 0, 0, 0, 1, 0, 0, 0, 0, 0, 0, 1]]), array([[0, 0, 0, 0, 0, 0, 0, 0, 0, 1, 0, 0, 0, 0]])), (array([[0, 0, 0, 0, 0, 0, 0, 1, 1, 0, 0, 0, 0, 0]]), array([[0, 0, 0, 0, 0, 0, 0, 0, 0, 0, 0, 0, 1, 0]])), (array([[0, 0, 0, 0, 0, 0, 0, 1, 0, 1, 0, 0, 0, 0]]), array([[0, 0, 0, 0, 0, 1, 0, 0, 0, 0, 0, 0, 0, 0]])), (array([[0, 0, 0, 0, 0, 0, 0, 1, 0, 0, 1, 0, 0, 0]]), array([[1, 0, 0, 1, 0, 0, 0, 0, 0, 0, 0, 0, 0, 0]])), (array([[0, 0, 0, 0, 0, 0, 0, 1, 0, 0, 0, 1, 0, 0]]), array([[0, 0, 0, 1, 0, 0, 0, 0, 0, 0, 0, 0, 0, 0]])), (array([[0, 0, 0, 0, 0, 0, 0, 1, 0, 0, 0, 0, 1, 0]]), array([[0, 0, 0, 0, 0, 0, 0, 0, 1, 0, 0, 0, 0, 0]])), (array([[0, 0, 0, 0, 0, 0, 0, 1, 0, 0, 0, 0, 0, 1]]), array([[1, 0, 0, 0, 0, 0, 0, 0, 0, 0, 0, 0, 0, 0]])), (array([[0, 0, 0, 0, 0, 0, 0, 0, 1, 1, 0, 0, 0, 0]]), array([[1, 0, 0, 1, 0, 0, 0, 0, 0, 0, 0, 0, 0, 0]])), (array([[0, 0, 0, 0, 0, 0, 0, 0, 1, 0, 1, 0, 0, 0]]), array([[0, 0, 0, 0, 0, 1, 0, 0, 0, 0, 0, 0, 0, 0]])), (array([[0, 0, 0, 0, 0, 0, 0, 0, 1, 0, 0, 1, 0, 0]]), array([[0, 0, 0, 0, 0, 0, 1, 0, 0, 0, 0, 0, 0, 0]])), (array([[0, 0, 0, 0, 0, 0, 0, 0, 1, 0, 0, 0, 1, 0]]), array([[0, 0, 0, 0, 0, 0, 0, 1, 0, 0, 0, 0, 0, 0]])), (array([[0, 0, 0, 0, 0, 0, 0, 0, 1, 0, 0, 0, 0, 1]]), array([[0, 0, 0, 0, 1, 0, 0, 0, 0, 0, 0, 0, 0, 0]])), (array([[0, 0, 0, 0, 0, 0, 0, 0, 0, 1, 1, 0, 0, 0]]), array([[0, 0, 0, 0, 0, 0, 0, 0, 0, 0, 0, 0, 1, 0]])), (array([[0, 0, 0, 0, 0, 0, 0, 0, 0, 1, 0, 1, 0, 0]]), array([[0, 0, 0, 0, 1, 0, 0, 0, 0, 0, 0, 0, 0, 0]])), (array([[0, 0, 0, 0, 0, 0, 0, 0, 0, 1, 0, 0, 1, 0]]), array([[0, 0, 0, 0, 0, 0, 0, 0, 0, 0, 1, 0, 0, 0]])), (array([[0, 0, 0, 0, 0, 0, 0, 0, 0, 1, 0, 0, 0, 1]]), array([[0, 0, 0, 0, 0, 0, 1, 0, 0, 0, 0, 0, 0, 0]])), (array([[0, 0, 0, 0, 0, 0, 0, 0, 0, 0, 1, 1, 0, 0]]), array([[1, 0, 0, 0, 0, 0, 0, 0, 0, 0, 0, 0, 0, 0]])), (array([[0, 0, 0, 0, 0, 0, 0, 0, 0, 0, 1, 0, 1, 0]]), array([[0, 0, 0, 0, 0, 0, 0, 0, 0, 1, 0, 0, 0, 0]])), (array([[0, 0, 0, 0, 0, 0, 0, 0, 0, 0, 1, 0, 0, 1]]), array([[0, 0, 0, 1, 0, 0, 0, 0, 0, 0, 0, 0, 0, 0]])), (array([[0, 0, 0, 0, 0, 0, 0, 0, 0, 0, 0, 1, 1, 0]]), array([[0, 1, 0, 0, 0, 0, 0, 0, 0, 0, 0, 0, 0, 0]])), (array([[0, 0, 0, 0, 0, 0, 0, 0, 0, 0, 0, 1, 0, 1]]), array([[1, 0, 0, 1, 0, 0, 0, 0, 0, 0, 0, 0, 0, 0]])), (array([[0, 0, 0, 0, 0, 0, 0, 0, 0, 0, 0, 0, 1, 1]]), array([[0, 0, 1, 0, 0, 0, 0, 0, 0, 0, 0, 0, 0, 0]]))]\n"
     ]
    }
   ],
   "source": [
    "# Test double bit errors\n",
    "double_errors = generate_error_patterns(2, n)\n",
    "\n",
    "syndrome_dict = {}\n",
    "correctable = []\n",
    "only_detectable = []\n",
    "\n",
    "for error in double_errors:\n",
    "    syndrome = np.dot(error, H.T) % 2\n",
    "    syndrome_key = str(syndrome[0].astype(int).tolist())\n",
    "\n",
    "    if syndrome_key in syndrome_dict:\n",
    "        # If this syndrome was seen before, it's only detectable\n",
    "        # Remove the previous error pattern from correctable\n",
    "        prev_error = syndrome_dict[syndrome_key]\n",
    "        correctable = [e for e in correctable if not np.array_equal(e, prev_error)]\n",
    "        only_detectable.append((error, prev_error))\n",
    "    else:\n",
    "        # First time seeing this syndrome, might be correctable\n",
    "        syndrome_dict[syndrome_key] = error\n",
    "        correctable.append(error)\n",
    "\n",
    "print(f\"\\nFound {len(correctable)} correctable double-bit errors\")\n",
    "print(f\"Found {len(only_detectable)} only detectable double-bit errors\")\n",
    "\n",
    "print(\"\\nExample of correctable double-bit errors:\")\n",
    "for i, error in enumerate(correctable[:3]):\n",
    "    print(f\"Error pattern {i+1}: {error}\")\n",
    "\n",
    "print(\"\\nExample of only detectable double-bit errors:\")\n",
    "for i, (error1, error2) in enumerate(only_detectable[:3]):\n",
    "    print(f\"Pair {i+1}:\")\n",
    "    print(f\"Error pattern 1: {error1}\")\n",
    "    print(f\"Error pattern 2: {error2}\")\n",
    "    print(f\"Both have syndrome: {np.dot(error1, H.T) % 2}\")\n",
    "\n",
    "print(correctable)\n",
    "print(only_detectable)"
   ]
  }
 ],
 "metadata": {
  "kernelspec": {
   "display_name": "py312",
   "language": "python",
   "name": "python3"
  },
  "language_info": {
   "codemirror_mode": {
    "name": "ipython",
    "version": 3
   },
   "file_extension": ".py",
   "mimetype": "text/x-python",
   "name": "python",
   "nbconvert_exporter": "python",
   "pygments_lexer": "ipython3",
   "version": "3.12.10"
  }
 },
 "nbformat": 4,
 "nbformat_minor": 2
}
